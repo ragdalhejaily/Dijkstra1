{
 "cells": [
  {
   "cell_type": "code",
   "execution_count": 3,
   "metadata": {},
   "outputs": [],
   "source": [
    "import json \n",
    "import math\n"
   ]
  },
  {
   "cell_type": "code",
   "execution_count": 4,
   "metadata": {},
   "outputs": [],
   "source": [
    "class  Airport:\n",
    "    def __init__(self,Name,cityName,AirportID,Longitude,Latitude,destinations):\n",
    "        self.AirportName=Name\n",
    "        self.cityName=cityName\n",
    "        self.AirportID=AirportID\n",
    "        self.Longitude=float(Longitude)         \n",
    "        self.Latitude=float(Latitude)  \n",
    "        self.destinations=destinations\n",
    "        self.visited=False \n",
    "    def __str__(self):\n",
    "        return \" Airport ID = \" + self.AirportID"
   ]
  },
  {
   "cell_type": "code",
   "execution_count": 10,
   "metadata": {},
   "outputs": [],
   "source": [
    "class  Dijkstra:\n",
    "    def GetAirportdetails(self,airpID,lstofdata):\n",
    "        return list(filter(lambda x:x.AirportID==airpID,lstofdata))\n",
    "\n",
    "    def destinationpoint(self,startpoint,endpoint,lstdic,LST,stop,Airportlst,g=\"1\"):\n",
    "        global recursive\n",
    "        startpoint=self.GetAirportdetails(startpoint,Airportlst)       \n",
    "        startpoint=startpoint[0]\n",
    "        lstdic[g]=startpoint\n",
    "        lstofdistinations=startpoint.destinations\n",
    "        recursive +=1\n",
    "        for airid in range(len(lstofdistinations)):\n",
    "            result=self.GetAirportdetails(lstofdistinations[airid],Airportlst)\n",
    "            if(not result): continue \n",
    "            result=result[0]\n",
    "            if(result.AirportID==endpoint):\n",
    "                print(\"Yas, I found the destination airport \",endpoint,recursive)\n",
    "                lstdic[g+str(airid)+\"_End\"]=result\n",
    "                LST.append(result)\n",
    "                continue\n",
    "            else:\n",
    "                if(stop >= recursive):\n",
    "                    gid=g+str(airid)\n",
    "                    if(startpoint.visited==False):\n",
    "                        startpoint.visited=True\n",
    "                    else:\n",
    "                        continue\n",
    "                    self.destinationpoint(result.AirportID,endpoint,lstdic,LST,stop,Airportlst,gid)\n",
    "                    lstdic[gid]=result\n",
    "                    LST.append(result)\n",
    "                    continue\n",
    "                else:\n",
    "                    return False\n",
    "\n",
    "    def point(self,resultDIC,endkey=\"End\"):\n",
    "        res = dict(filter(lambda i: i[0].endswith(endkey), resultDIC.items())) \n",
    "        dicLstpoint={}\n",
    "        count=0\n",
    "        for i in [*res]:\n",
    "            count+=1\n",
    "            self.getallpath(i,resultDIC,dicLstpoint,count)\n",
    "        for F in range(len(list(dicLstpoint.values()))):\n",
    "            totaldistance=.0\n",
    "            for T in range(len(list(dicLstpoint.values())[F])):\n",
    "                P1=list(dicLstpoint.values())[F][T][1]\n",
    "                P1.ED=0\n",
    "                if(T>0):\n",
    "                    P2=list(dicLstpoint.values())[F][T-1][1]\n",
    "                    P1.ED=self.euclideanDistance(P2,P1)\n",
    "                    totaldistance +=P1.ED\n",
    "                    print(\"\"\"Starting from Airport ID :{} the City Name : {} To destination Airport ID :{} the City Name : {} distance is {}\"\"\"\n",
    "                          .format(P2.AirportID,P2.cityName,P1.AirportID,P1.cityName,P1.ED))\n",
    "            print(\"----------------------------------------\") \n",
    "            print(\"Total distance is : \",totaldistance)\n",
    "                           \n",
    "\n",
    "    def getallpath(self,g,resultDIC,dicLst,count):\n",
    "        g=g.split('_')[0]\n",
    "        lst1=[]\n",
    "        for i in range(1,len(g)):\n",
    "            lst1.append((i,resultDIC[g[:i]]))\n",
    "            if(i==len(g)-1):\n",
    "                lst1.append((i+1,resultDIC[g+\"_End\"]))\n",
    "        dicLst[\"flight No \"+str(count)]=lst1 \n",
    "\n",
    "        \n",
    "    def euclideanDistance(self,path1, path2):\n",
    "        distance =  pow((path1.Longitude - path2.Longitude), 2) \n",
    "        +pow((path1.Latitude - path2.Latitude), 2)\n",
    "        return math.sqrt(distance)\n",
    "    \n",
    "\n",
    "    def Check(self,z):\n",
    "        try:\n",
    "            float(z)\n",
    "            return True\n",
    "        except ValueError:\n",
    "            return False"
   ]
  },
  {
   "cell_type": "code",
   "execution_count": 11,
   "metadata": {},
   "outputs": [
    {
     "name": "stdout",
     "output_type": "stream",
     "text": [
      "3266\n"
     ]
    }
   ],
   "source": [
    "AllairpotFJ=\"Airports.json\" \n",
    "with open(AllairpotFJ) as jsonfile:\n",
    "    airpotFJ = json.load(jsonfile)\n",
    "\n",
    "print(len(airpotFJ))\n"
   ]
  },
  {
   "cell_type": "code",
   "execution_count": 12,
   "metadata": {},
   "outputs": [
    {
     "name": "stdout",
     "output_type": "stream",
     "text": [
      "The AirportID 111 AND AirportName QuebecJeanLesageIntl\n",
      " List Length 3263\n",
      "The AirportID 4025 AND AirportName HancockCounty-BarHarbor\n"
     ]
    }
   ],
   "source": [
    "AirportLST=[]\n",
    "for item in airpotFJ:\n",
    "    if(Dijkstra().Check(item[\"Longitude\"]) and Dijkstra().Check(item[\"Latitude\"]) and len(item[\"AirportID\"])>0):\n",
    "        AirportLST.append(Airport(item[\"Name\"],item[\"City\"],item[\"AirportID\"],item[\"Longitude\"],\n",
    "                                         item[\"Latitude\"],item[\"destinations\"]))\n",
    "\n",
    "    \n",
    "\n",
    "\n",
    "OBJ=Dijkstra().GetAirportdetails('111',AirportLST)\n",
    "print(\"The AirportID {} AND AirportName {}\".format(OBJ[0].AirportID,OBJ[0].AirportName))\n",
    "print( \" List Length\",len(AirportLST))\n",
    "print(\"The AirportID {} AND AirportName {}\".format(AirportLST[5].AirportID,AirportLST[5].AirportName))"
   ]
  },
  {
   "cell_type": "code",
   "execution_count": 13,
   "metadata": {},
   "outputs": [
    {
     "name": "stdout",
     "output_type": "stream",
     "text": [
      "Yas, I found the destination airport  188 4\n",
      "-----------------------------------------------------------------------------\n",
      "Path to destination \n",
      "-----------------------------------------------------------------------------\n",
      "1 {\"AirportName\": \"PostvilleAirport\", \"cityName\": \"Postville\", \"AirportID\": \"7252\", \"Longitude\": -59.785278, \"Latitude\": 54.910278, \"destinations\": [\"5492\", \"188\", \"5502\"], \"visited\": true}\n",
      "10 {\"AirportName\": \"MakkovikAirport\", \"cityName\": \"Makkovik\", \"AirportID\": \"5492\", \"Longitude\": -59.1864, \"Latitude\": 55.0769, \"destinations\": [\"5502\", \"7252\", \"5461\"], \"visited\": true}\n",
      "100 {\"AirportName\": \"HopedaleAirport\", \"cityName\": \"Hopedale\", \"AirportID\": \"5502\", \"Longitude\": -60.2286, \"Latitude\": 55.4483, \"destinations\": [\"5492\", \"7252\"], \"visited\": true}\n",
      "1000 {\"AirportName\": \"MakkovikAirport\", \"cityName\": \"Makkovik\", \"AirportID\": \"5492\", \"Longitude\": -59.1864, \"Latitude\": 55.0769, \"destinations\": [\"5502\", \"7252\", \"5461\"], \"visited\": true}\n",
      "11_End {\"AirportName\": \"GooseBay\", \"cityName\": \"GooseBay\", \"AirportID\": \"188\", \"Longitude\": -60.425833, \"Latitude\": 53.319168, \"destinations\": [\"45\", \"73\", \"125\", \"161\", \"189\", \"24\", \"5485\", \"5488\", \"7252\", \"5550\", \"5461\"], \"visited\": false}\n"
     ]
    }
   ],
   "source": [
    "recursive=0\n",
    "resultDIC={}\n",
    "tmp=[]\n",
    "Dijkstra().destinationpoint('7252','188',resultDIC,tmp,10,AirportLST)\n",
    "print(\"-----------------------------------------------------------------------------\")\n",
    "print(\"Path to destination \")\n",
    "print(\"-----------------------------------------------------------------------------\")\n",
    "for x, y in resultDIC.items():\n",
    "  print(x, json.dumps(y.__dict__))"
   ]
  },
  {
   "cell_type": "code",
   "execution_count": 14,
   "metadata": {},
   "outputs": [
    {
     "name": "stdout",
     "output_type": "stream",
     "text": [
      "Starting from Airport ID :7252 the City Name : Postville To destination Airport ID :188 the City Name : GooseBay distance is 0.6405549999999991\n",
      "----------------------------------------\n",
      "Total distance is :  0.6405549999999991\n"
     ]
    }
   ],
   "source": [
    "Dijkstra().point(resultDIC)"
   ]
  },
  {
   "cell_type": "code",
   "execution_count": null,
   "metadata": {},
   "outputs": [],
   "source": []
  },
  {
   "cell_type": "code",
   "execution_count": null,
   "metadata": {},
   "outputs": [],
   "source": []
  },
  {
   "cell_type": "code",
   "execution_count": null,
   "metadata": {},
   "outputs": [],
   "source": []
  }
 ],
 "metadata": {
  "kernelspec": {
   "display_name": "Python 3",
   "language": "python",
   "name": "python3"
  },
  "language_info": {
   "codemirror_mode": {
    "name": "ipython",
    "version": 3
   },
   "file_extension": ".py",
   "mimetype": "text/x-python",
   "name": "python",
   "nbconvert_exporter": "python",
   "pygments_lexer": "ipython3",
   "version": "3.8.3"
  }
 },
 "nbformat": 4,
 "nbformat_minor": 4
}
